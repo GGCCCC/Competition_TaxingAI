{
 "cells": [
  {
   "cell_type": "code",
   "execution_count": 1,
   "id": "61bcb5df",
   "metadata": {},
   "outputs": [],
   "source": [
    "from grid_search import *"
   ]
  },
  {
   "cell_type": "code",
   "execution_count": 2,
   "id": "01c23d2a",
   "metadata": {},
   "outputs": [
    {
     "ename": "KeyboardInterrupt",
     "evalue": "",
     "output_type": "error",
     "traceback": [
      "\u001b[0;31m---------------------------------------------------------------------------\u001b[0m",
      "\u001b[0;31mKeyboardInterrupt\u001b[0m                         Traceback (most recent call last)",
      "Cell \u001b[0;32mIn[2], line 52\u001b[0m\n\u001b[1;32m     50\u001b[0m \u001b[38;5;28;01mfor\u001b[39;00m x \u001b[38;5;129;01min\u001b[39;00m grid_x:\n\u001b[1;32m     51\u001b[0m     \u001b[38;5;28;01mfor\u001b[39;00m y \u001b[38;5;129;01min\u001b[39;00m grid_y:\n\u001b[0;32m---> 52\u001b[0m         score \u001b[38;5;241m=\u001b[39m \u001b[43mstep\u001b[49m\u001b[43m(\u001b[49m\u001b[43mx\u001b[49m\u001b[43m,\u001b[49m\u001b[43m \u001b[49m\u001b[43my\u001b[49m\u001b[43m)\u001b[49m\n\u001b[1;32m     53\u001b[0m         \u001b[38;5;28;01mif\u001b[39;00m score \u001b[38;5;241m>\u001b[39m best_score:\n\u001b[1;32m     54\u001b[0m             best_score \u001b[38;5;241m=\u001b[39m score\n",
      "Cell \u001b[0;32mIn[2], line 27\u001b[0m, in \u001b[0;36mstep\u001b[0;34m(x, y)\u001b[0m\n\u001b[1;32m     25\u001b[0m game\u001b[38;5;241m.\u001b[39mset_seed(seed)\n\u001b[1;32m     26\u001b[0m JointActor\u001b[38;5;241m.\u001b[39mset_params(x, y)\n\u001b[0;32m---> 27\u001b[0m score \u001b[38;5;241m=\u001b[39m \u001b[43mrun_game\u001b[49m\u001b[43m(\u001b[49m\u001b[43mgame\u001b[49m\u001b[43m,\u001b[49m\u001b[43m \u001b[49m\u001b[43menv_type\u001b[49m\u001b[43m,\u001b[49m\u001b[43m \u001b[49m\u001b[43mmulti_part_agent_ids\u001b[49m\u001b[43m,\u001b[49m\u001b[43m \u001b[49m\u001b[43mactions_space\u001b[49m\u001b[43m,\u001b[49m\u001b[43m \u001b[49m\u001b[43mpolicy_list\u001b[49m\u001b[43m,\u001b[49m\u001b[43m \u001b[49m\u001b[43mrender_mode\u001b[49m\u001b[43m)\u001b[49m\n\u001b[1;32m     28\u001b[0m scores\u001b[38;5;241m.\u001b[39mappend(score)\n\u001b[1;32m     29\u001b[0m \u001b[38;5;66;03m# gc.collect()\u001b[39;00m\n",
      "File \u001b[0;32m~/jidi/Competition_TaxingAI/grid_search.py:94\u001b[0m, in \u001b[0;36mrun_game\u001b[0;34m(g, env_name, multi_part_agent_ids, actions_spaces, policy_list, render_mode)\u001b[0m\n\u001b[1;32m     92\u001b[0m         g\u001b[38;5;241m.\u001b[39mrender()\n\u001b[1;32m     93\u001b[0m     joint_act \u001b[38;5;241m=\u001b[39m get_joint_action_eval(g, multi_part_agent_ids, policy_list, actions_spaces, all_observes)\n\u001b[0;32m---> 94\u001b[0m     all_observes, reward, done, info_before, info_after \u001b[38;5;241m=\u001b[39m \u001b[43mg\u001b[49m\u001b[38;5;241;43m.\u001b[39;49m\u001b[43mstep\u001b[49m\u001b[43m(\u001b[49m\u001b[43mjoint_act\u001b[49m\u001b[43m)\u001b[49m\n\u001b[1;32m     95\u001b[0m \u001b[38;5;28;01mreturn\u001b[39;00m np\u001b[38;5;241m.\u001b[39mmean(g\u001b[38;5;241m.\u001b[39mn_return)\n",
      "File \u001b[0;32m~/jidi/Competition_TaxingAI/env/taxing_household.py:192\u001b[0m, in \u001b[0;36mTaxing_Household.step\u001b[0;34m(self, joint_action)\u001b[0m\n\u001b[1;32m    189\u001b[0m joint_action_decode \u001b[38;5;241m=\u001b[39m \u001b[38;5;28mself\u001b[39m\u001b[38;5;241m.\u001b[39mdecode(joint_action)\n\u001b[1;32m    190\u001b[0m info_before \u001b[38;5;241m=\u001b[39m {\u001b[38;5;124m\"\u001b[39m\u001b[38;5;124mactions\u001b[39m\u001b[38;5;124m\"\u001b[39m: joint_action_decode}\n\u001b[0;32m--> 192\u001b[0m global_obs, private_obs, gov_r, house_r, done \u001b[38;5;241m=\u001b[39m \u001b[38;5;28;43mself\u001b[39;49m\u001b[38;5;241;43m.\u001b[39;49m\u001b[43menv_core\u001b[49m\u001b[38;5;241;43m.\u001b[39;49m\u001b[43mstep\u001b[49m\u001b[43m(\u001b[49m\u001b[43mjoint_action_decode\u001b[49m\u001b[43m)\u001b[49m\n\u001b[1;32m    193\u001b[0m info_after \u001b[38;5;241m=\u001b[39m \u001b[38;5;28mself\u001b[39m\u001b[38;5;241m.\u001b[39mstep_after_info()\n\u001b[1;32m    194\u001b[0m \u001b[38;5;28mself\u001b[39m\u001b[38;5;241m.\u001b[39mcurrent_state \u001b[38;5;241m=\u001b[39m (global_obs, private_obs)\n",
      "File \u001b[0;32m~/jidi/Competition_TaxingAI/TaxAI/env/env_core.py:97\u001b[0m, in \u001b[0;36meconomic_society.step\u001b[0;34m(self, action_dict)\u001b[0m\n\u001b[1;32m     94\u001b[0m \u001b[38;5;28mself\u001b[39m\u001b[38;5;241m.\u001b[39mvalid_action_dict \u001b[38;5;241m=\u001b[39m \u001b[38;5;28mself\u001b[39m\u001b[38;5;241m.\u001b[39mis_valid(action_dict)\n\u001b[1;32m     96\u001b[0m \u001b[38;5;66;03m# update\u001b[39;00m\n\u001b[0;32m---> 97\u001b[0m \u001b[38;5;28;43mself\u001b[39;49m\u001b[38;5;241;43m.\u001b[39;49m\u001b[43mhouseholds\u001b[49m\u001b[38;5;241;43m.\u001b[39;49m\u001b[43mgenerate_e_ability\u001b[49m\u001b[43m(\u001b[49m\u001b[43m)\u001b[49m\n\u001b[1;32m     98\u001b[0m \u001b[38;5;28mself\u001b[39m\u001b[38;5;241m.\u001b[39mKt \u001b[38;5;241m=\u001b[39m copy\u001b[38;5;241m.\u001b[39mcopy(\u001b[38;5;28mself\u001b[39m\u001b[38;5;241m.\u001b[39mKt_next)\n\u001b[1;32m     99\u001b[0m \u001b[38;5;28mself\u001b[39m\u001b[38;5;241m.\u001b[39mBt \u001b[38;5;241m=\u001b[39m copy\u001b[38;5;241m.\u001b[39mcopy(\u001b[38;5;28mself\u001b[39m\u001b[38;5;241m.\u001b[39mBt_next)\n",
      "File \u001b[0;32m~/jidi/Competition_TaxingAI/TaxAI/entities/household.py:61\u001b[0m, in \u001b[0;36mHousehold.generate_e_ability\u001b[0;34m(self)\u001b[0m\n\u001b[1;32m     58\u001b[0m is_superstar \u001b[38;5;241m=\u001b[39m (\u001b[38;5;28mself\u001b[39m\u001b[38;5;241m.\u001b[39me_array[i,\u001b[38;5;241m1\u001b[39m]\u001b[38;5;241m>\u001b[39m\u001b[38;5;241m0\u001b[39m)\u001b[38;5;241m.\u001b[39mastype(\u001b[38;5;28mint\u001b[39m)\n\u001b[1;32m     59\u001b[0m \u001b[38;5;28;01mif\u001b[39;00m is_superstar \u001b[38;5;241m==\u001b[39m \u001b[38;5;241m0\u001b[39m:\n\u001b[1;32m     60\u001b[0m     \u001b[38;5;66;03m# normal state\u001b[39;00m\n\u001b[0;32m---> 61\u001b[0m     \u001b[38;5;28;01mif\u001b[39;00m \u001b[43mnp\u001b[49m\u001b[38;5;241;43m.\u001b[39;49m\u001b[43mrandom\u001b[49m\u001b[38;5;241;43m.\u001b[39;49m\u001b[43mrand\u001b[49m\u001b[43m(\u001b[49m\u001b[43m)\u001b[49m \u001b[38;5;241m<\u001b[39m \u001b[38;5;28mself\u001b[39m\u001b[38;5;241m.\u001b[39me_p:\n\u001b[1;32m     62\u001b[0m         \u001b[38;5;66;03m# transit from normal to super-star\u001b[39;00m\n\u001b[1;32m     63\u001b[0m         \u001b[38;5;28mself\u001b[39m\u001b[38;5;241m.\u001b[39me_array[i, \u001b[38;5;241m0\u001b[39m] \u001b[38;5;241m=\u001b[39m \u001b[38;5;241m0\u001b[39m\n\u001b[1;32m     64\u001b[0m         \u001b[38;5;28mself\u001b[39m\u001b[38;5;241m.\u001b[39me_array[i, \u001b[38;5;241m1\u001b[39m] \u001b[38;5;241m=\u001b[39m \u001b[38;5;28mself\u001b[39m\u001b[38;5;241m.\u001b[39msuper_e \u001b[38;5;241m*\u001b[39m e_past_mean\n",
      "\u001b[0;31mKeyboardInterrupt\u001b[0m: "
     ]
    }
   ],
   "source": [
    "import gc\n",
    "import copy\n",
    "import warnings\n",
    "warnings.filterwarnings(\"ignore\")\n",
    "warnings.filterwarnings(\"ignore\", category=UserWarning, module=\"box.py\", lineno=61)\n",
    "\n",
    "log_file = open(\"log\", \"a\")\n",
    "\n",
    "env_type = \"taxing_household\"   #\"taxing_household\" \"taxing_gov\"\n",
    "# env_type = \"taxing_gov\"   #\"taxing_household\" \"taxing_gov\"\n",
    "# env_type = \"olympics\"   #\"taxing_household\" \"taxing_gov\"\n",
    "game = make(env_type, seed=None)\n",
    "\n",
    "render_mode = False\n",
    "\n",
    "_policy_list = list(range(4))\n",
    "policy_list = _policy_list[:len(game.agent_nums)]\n",
    "multi_part_agent_ids, actions_space = get_players_and_action_space_list(game)\n",
    "\n",
    "def step(x, y):\n",
    "    scores = []\n",
    "    for i in range(30):\n",
    "        seed = random.randrange(1000)\n",
    "        game.reset()\n",
    "        game.set_seed(seed)\n",
    "        JointActor.set_params(x, y)\n",
    "        score = run_game(game, env_type, multi_part_agent_ids, actions_space, policy_list, render_mode)\n",
    "        scores.append(score)\n",
    "        # gc.collect()\n",
    "    mean_score = np.mean(scores)\n",
    "    # print(f\"params:({x:.3f},{y:.3f}) step score={mean_score:.2f}\")\n",
    "    log_file.write(f\"params:({x:.3f},{y:.3f}) step score={mean_score:.2f}\\n\")\n",
    "    sys.stdout.flush()\n",
    "    return np.mean(mean_score)\n",
    "\n",
    "from scipy.optimize import differential_evolution\n",
    "def objective(params):\n",
    "    x, y = params\n",
    "    return -step(x, y)\n",
    "def callback(xk, convergence):\n",
    "    print(\"Current best params: \", xk)\n",
    "    print(\"Convergence: \", convergence)\n",
    "    log_file.write(\"Current best params: \" + str(xk) + \"\\n\")\n",
    "    log_file.write(\"Convergence: \" + str(convergence) + \"\\n\")\n",
    "\n",
    "# 网格搜索\n",
    "grid_x = np.linspace(-1, 1, 10)\n",
    "grid_y = np.linspace(-1, 1, 10)\n",
    "best_score = float('-inf')\n",
    "best_params = None\n",
    "for x in grid_x:\n",
    "    for y in grid_y:\n",
    "        score = step(x, y)\n",
    "        if score > best_score:\n",
    "            best_score = score\n",
    "            best_params = (x, y)\n",
    "\n",
    "# 遗传算法\n",
    "bounds = [(-1, 1), (-1, 1)]\n",
    "result = differential_evolution(objective, bounds, init=[best_params], maxiter=10, popsize=15, callback=callback)\n",
    "best_x, best_y = result.x\n",
    "best_score = -result.fun\n",
    "\n",
    "print(\"Best x: \", best_x)\n",
    "print(\"Best y: \", best_y)\n",
    "print(\"Best score: \", best_score)\n",
    "log_file.write(\"Best x: \" + str(best_x) + \"\\n\")\n",
    "log_file.write(\"Best y: \" + str(best_y) + \"\\n\")\n",
    "log_file.write(\"Best score: \" + str(best_score) + \"\\n\")\n",
    "sys.stdout.flush()\n",
    "log_file.close()"
   ]
  }
 ],
 "metadata": {
  "kernelspec": {
   "display_name": "Python 3 (ipykernel)",
   "language": "python",
   "name": "python3"
  },
  "language_info": {
   "codemirror_mode": {
    "name": "ipython",
    "version": 3
   },
   "file_extension": ".py",
   "mimetype": "text/x-python",
   "name": "python",
   "nbconvert_exporter": "python",
   "pygments_lexer": "ipython3",
   "version": "3.8.18"
  }
 },
 "nbformat": 4,
 "nbformat_minor": 5
}
